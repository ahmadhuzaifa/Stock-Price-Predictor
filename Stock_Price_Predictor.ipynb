{
  "nbformat": 4,
  "nbformat_minor": 0,
  "metadata": {
    "colab": {
      "name": "Stock Price Predictor.ipynb",
      "provenance": [],
      "collapsed_sections": [],
      "include_colab_link": true
    },
    "kernelspec": {
      "name": "python3",
      "display_name": "Python 3"
    }
  },
  "cells": [
    {
      "cell_type": "markdown",
      "metadata": {
        "id": "view-in-github",
        "colab_type": "text"
      },
      "source": [
        "<a href=\"https://colab.research.google.com/github/ahmadhuzaifa/Stock-Price-Predictor/blob/master/Stock_Price_Predictor.ipynb\" target=\"_parent\"><img src=\"https://colab.research.google.com/assets/colab-badge.svg\" alt=\"Open In Colab\"/></a>"
      ]
    },
    {
      "cell_type": "markdown",
      "metadata": {
        "id": "5pl7FqAshLbQ",
        "colab_type": "text"
      },
      "source": [
        "#Stock Prediction\n",
        "\n",
        "The goal of this software is to predict the Apple stock price 260 days into the future using previous data points using Keras and LSTM"
      ]
    },
    {
      "cell_type": "markdown",
      "metadata": {
        "id": "qsEUPnsTiLO4",
        "colab_type": "text"
      },
      "source": [
        "##import necessary libraries\n"
      ]
    },
    {
      "cell_type": "code",
      "metadata": {
        "id": "_o08egXpE4jK",
        "colab_type": "code",
        "colab": {}
      },
      "source": [
        "import datetime\n",
        "import pandas as pd\n",
        "import numpy as np\n",
        "import pandas_datareader as web\n",
        "import matplotlib.pyplot as plt"
      ],
      "execution_count": 0,
      "outputs": []
    },
    {
      "cell_type": "markdown",
      "metadata": {
        "id": "ZO7homKqiNkw",
        "colab_type": "text"
      },
      "source": [
        "##Get Stock Prices"
      ]
    },
    {
      "cell_type": "code",
      "metadata": {
        "id": "yb7pUgR3EvT3",
        "colab_type": "code",
        "colab": {}
      },
      "source": [
        "stock_name = \"AAPL\"\n",
        "end_date = datetime.datetime.today()\n",
        "start_date = datetime.date(end_date.year-100,1,1)"
      ],
      "execution_count": 0,
      "outputs": []
    },
    {
      "cell_type": "code",
      "metadata": {
        "id": "dGqN3IFEEw4i",
        "colab_type": "code",
        "outputId": "54ad0f7a-c0f5-45f1-83cf-bc45abb9b051",
        "colab": {
          "base_uri": "https://localhost:8080/",
          "height": 637
        }
      },
      "source": [
        "def get_stock_data(stock, start, end):\n",
        "  df = web.DataReader(stock_name, 'yahoo', start, end)\n",
        "  df.to_csv(stock_name + '.csv')\n",
        "  return df\n",
        "\n",
        "df = get_stock_data(stock_name, start_date, end_date)\n",
        "df"
      ],
      "execution_count": 0,
      "outputs": [
        {
          "output_type": "execute_result",
          "data": {
            "text/html": [
              "<div>\n",
              "<style scoped>\n",
              "    .dataframe tbody tr th:only-of-type {\n",
              "        vertical-align: middle;\n",
              "    }\n",
              "\n",
              "    .dataframe tbody tr th {\n",
              "        vertical-align: top;\n",
              "    }\n",
              "\n",
              "    .dataframe thead th {\n",
              "        text-align: right;\n",
              "    }\n",
              "</style>\n",
              "<table border=\"1\" class=\"dataframe\">\n",
              "  <thead>\n",
              "    <tr style=\"text-align: right;\">\n",
              "      <th></th>\n",
              "      <th>High</th>\n",
              "      <th>Low</th>\n",
              "      <th>Open</th>\n",
              "      <th>Close</th>\n",
              "      <th>Volume</th>\n",
              "      <th>Adj Close</th>\n",
              "    </tr>\n",
              "    <tr>\n",
              "      <th>Date</th>\n",
              "      <th></th>\n",
              "      <th></th>\n",
              "      <th></th>\n",
              "      <th></th>\n",
              "      <th></th>\n",
              "      <th></th>\n",
              "    </tr>\n",
              "  </thead>\n",
              "  <tbody>\n",
              "    <tr>\n",
              "      <th>1980-12-12</th>\n",
              "      <td>0.515625</td>\n",
              "      <td>0.513393</td>\n",
              "      <td>0.513393</td>\n",
              "      <td>0.513393</td>\n",
              "      <td>117258400.0</td>\n",
              "      <td>0.406782</td>\n",
              "    </tr>\n",
              "    <tr>\n",
              "      <th>1980-12-15</th>\n",
              "      <td>0.488839</td>\n",
              "      <td>0.486607</td>\n",
              "      <td>0.488839</td>\n",
              "      <td>0.486607</td>\n",
              "      <td>43971200.0</td>\n",
              "      <td>0.385558</td>\n",
              "    </tr>\n",
              "    <tr>\n",
              "      <th>1980-12-16</th>\n",
              "      <td>0.453125</td>\n",
              "      <td>0.450893</td>\n",
              "      <td>0.453125</td>\n",
              "      <td>0.450893</td>\n",
              "      <td>26432000.0</td>\n",
              "      <td>0.357260</td>\n",
              "    </tr>\n",
              "    <tr>\n",
              "      <th>1980-12-17</th>\n",
              "      <td>0.464286</td>\n",
              "      <td>0.462054</td>\n",
              "      <td>0.462054</td>\n",
              "      <td>0.462054</td>\n",
              "      <td>21610400.0</td>\n",
              "      <td>0.366103</td>\n",
              "    </tr>\n",
              "    <tr>\n",
              "      <th>1980-12-18</th>\n",
              "      <td>0.477679</td>\n",
              "      <td>0.475446</td>\n",
              "      <td>0.475446</td>\n",
              "      <td>0.475446</td>\n",
              "      <td>18362400.0</td>\n",
              "      <td>0.376715</td>\n",
              "    </tr>\n",
              "    <tr>\n",
              "      <th>...</th>\n",
              "      <td>...</td>\n",
              "      <td>...</td>\n",
              "      <td>...</td>\n",
              "      <td>...</td>\n",
              "      <td>...</td>\n",
              "      <td>...</td>\n",
              "    </tr>\n",
              "    <tr>\n",
              "      <th>2020-03-16</th>\n",
              "      <td>259.079987</td>\n",
              "      <td>240.000000</td>\n",
              "      <td>241.949997</td>\n",
              "      <td>242.210007</td>\n",
              "      <td>80605900.0</td>\n",
              "      <td>242.210007</td>\n",
              "    </tr>\n",
              "    <tr>\n",
              "      <th>2020-03-17</th>\n",
              "      <td>257.609985</td>\n",
              "      <td>238.399994</td>\n",
              "      <td>247.509995</td>\n",
              "      <td>252.860001</td>\n",
              "      <td>81014000.0</td>\n",
              "      <td>252.860001</td>\n",
              "    </tr>\n",
              "    <tr>\n",
              "      <th>2020-03-18</th>\n",
              "      <td>250.000000</td>\n",
              "      <td>237.119995</td>\n",
              "      <td>239.770004</td>\n",
              "      <td>246.669998</td>\n",
              "      <td>75058400.0</td>\n",
              "      <td>246.669998</td>\n",
              "    </tr>\n",
              "    <tr>\n",
              "      <th>2020-03-19</th>\n",
              "      <td>252.839996</td>\n",
              "      <td>242.610001</td>\n",
              "      <td>247.389999</td>\n",
              "      <td>244.779999</td>\n",
              "      <td>67964300.0</td>\n",
              "      <td>244.779999</td>\n",
              "    </tr>\n",
              "    <tr>\n",
              "      <th>2020-03-20</th>\n",
              "      <td>251.830002</td>\n",
              "      <td>228.000000</td>\n",
              "      <td>247.179993</td>\n",
              "      <td>229.240005</td>\n",
              "      <td>100257000.0</td>\n",
              "      <td>229.240005</td>\n",
              "    </tr>\n",
              "  </tbody>\n",
              "</table>\n",
              "<p>9901 rows × 6 columns</p>\n",
              "</div>"
            ],
            "text/plain": [
              "                  High         Low  ...       Volume   Adj Close\n",
              "Date                                ...                         \n",
              "1980-12-12    0.515625    0.513393  ...  117258400.0    0.406782\n",
              "1980-12-15    0.488839    0.486607  ...   43971200.0    0.385558\n",
              "1980-12-16    0.453125    0.450893  ...   26432000.0    0.357260\n",
              "1980-12-17    0.464286    0.462054  ...   21610400.0    0.366103\n",
              "1980-12-18    0.477679    0.475446  ...   18362400.0    0.376715\n",
              "...                ...         ...  ...          ...         ...\n",
              "2020-03-16  259.079987  240.000000  ...   80605900.0  242.210007\n",
              "2020-03-17  257.609985  238.399994  ...   81014000.0  252.860001\n",
              "2020-03-18  250.000000  237.119995  ...   75058400.0  246.669998\n",
              "2020-03-19  252.839996  242.610001  ...   67964300.0  244.779999\n",
              "2020-03-20  251.830002  228.000000  ...  100257000.0  229.240005\n",
              "\n",
              "[9901 rows x 6 columns]"
            ]
          },
          "metadata": {
            "tags": []
          },
          "execution_count": 5
        }
      ]
    },
    {
      "cell_type": "markdown",
      "metadata": {
        "id": "Vp-lf3JkiWJw",
        "colab_type": "text"
      },
      "source": [
        "##Cleaning the DataFrame\n",
        "ONLY KEEP CLOSING VALUES\n"
      ]
    },
    {
      "cell_type": "code",
      "metadata": {
        "id": "Lt3fcblLEz-4",
        "colab_type": "code",
        "outputId": "2d64dc9a-753f-4dae-8fc4-f73e41590a54",
        "colab": {
          "base_uri": "https://localhost:8080/",
          "height": 419
        }
      },
      "source": [
        "def cleanDF(df):\n",
        "  df = df.drop(df.columns[[0, 1, 2,4,5]], axis=1)\n",
        "  df.reset_index(level=0, inplace=True)\n",
        "  return df\n",
        "\n",
        "clean_df = cleanDF(df)\n",
        "clean_df"
      ],
      "execution_count": 0,
      "outputs": [
        {
          "output_type": "execute_result",
          "data": {
            "text/html": [
              "<div>\n",
              "<style scoped>\n",
              "    .dataframe tbody tr th:only-of-type {\n",
              "        vertical-align: middle;\n",
              "    }\n",
              "\n",
              "    .dataframe tbody tr th {\n",
              "        vertical-align: top;\n",
              "    }\n",
              "\n",
              "    .dataframe thead th {\n",
              "        text-align: right;\n",
              "    }\n",
              "</style>\n",
              "<table border=\"1\" class=\"dataframe\">\n",
              "  <thead>\n",
              "    <tr style=\"text-align: right;\">\n",
              "      <th></th>\n",
              "      <th>Date</th>\n",
              "      <th>Close</th>\n",
              "    </tr>\n",
              "  </thead>\n",
              "  <tbody>\n",
              "    <tr>\n",
              "      <th>0</th>\n",
              "      <td>1980-12-12</td>\n",
              "      <td>0.513393</td>\n",
              "    </tr>\n",
              "    <tr>\n",
              "      <th>1</th>\n",
              "      <td>1980-12-15</td>\n",
              "      <td>0.486607</td>\n",
              "    </tr>\n",
              "    <tr>\n",
              "      <th>2</th>\n",
              "      <td>1980-12-16</td>\n",
              "      <td>0.450893</td>\n",
              "    </tr>\n",
              "    <tr>\n",
              "      <th>3</th>\n",
              "      <td>1980-12-17</td>\n",
              "      <td>0.462054</td>\n",
              "    </tr>\n",
              "    <tr>\n",
              "      <th>4</th>\n",
              "      <td>1980-12-18</td>\n",
              "      <td>0.475446</td>\n",
              "    </tr>\n",
              "    <tr>\n",
              "      <th>...</th>\n",
              "      <td>...</td>\n",
              "      <td>...</td>\n",
              "    </tr>\n",
              "    <tr>\n",
              "      <th>9896</th>\n",
              "      <td>2020-03-16</td>\n",
              "      <td>242.210007</td>\n",
              "    </tr>\n",
              "    <tr>\n",
              "      <th>9897</th>\n",
              "      <td>2020-03-17</td>\n",
              "      <td>252.860001</td>\n",
              "    </tr>\n",
              "    <tr>\n",
              "      <th>9898</th>\n",
              "      <td>2020-03-18</td>\n",
              "      <td>246.669998</td>\n",
              "    </tr>\n",
              "    <tr>\n",
              "      <th>9899</th>\n",
              "      <td>2020-03-19</td>\n",
              "      <td>244.779999</td>\n",
              "    </tr>\n",
              "    <tr>\n",
              "      <th>9900</th>\n",
              "      <td>2020-03-20</td>\n",
              "      <td>229.240005</td>\n",
              "    </tr>\n",
              "  </tbody>\n",
              "</table>\n",
              "<p>9901 rows × 2 columns</p>\n",
              "</div>"
            ],
            "text/plain": [
              "           Date       Close\n",
              "0    1980-12-12    0.513393\n",
              "1    1980-12-15    0.486607\n",
              "2    1980-12-16    0.450893\n",
              "3    1980-12-17    0.462054\n",
              "4    1980-12-18    0.475446\n",
              "...         ...         ...\n",
              "9896 2020-03-16  242.210007\n",
              "9897 2020-03-17  252.860001\n",
              "9898 2020-03-18  246.669998\n",
              "9899 2020-03-19  244.779999\n",
              "9900 2020-03-20  229.240005\n",
              "\n",
              "[9901 rows x 2 columns]"
            ]
          },
          "metadata": {
            "tags": []
          },
          "execution_count": 6
        }
      ]
    },
    {
      "cell_type": "code",
      "metadata": {
        "id": "ZShotMRgFeln",
        "colab_type": "code",
        "outputId": "de112052-24b3-4323-8ce9-a81b8418725a",
        "colab": {
          "base_uri": "https://localhost:8080/",
          "height": 287
        }
      },
      "source": [
        "ax = plt.gca()\n",
        "clean_df.plot(kind='line',x='Date',y='Close',ax=ax)"
      ],
      "execution_count": 0,
      "outputs": [
        {
          "output_type": "execute_result",
          "data": {
            "text/plain": [
              "<matplotlib.axes._subplots.AxesSubplot at 0x7fb44847dba8>"
            ]
          },
          "metadata": {
            "tags": []
          },
          "execution_count": 7
        },
        {
          "output_type": "display_data",
          "data": {
            "image/png": "[encoded data removed]",
            "text/plain": [
              "<Figure size 432x288 with 1 Axes>"
            ]
          },
          "metadata": {
            "tags": []
          }
        }
      ]
    },
    {
      "cell_type": "markdown",
      "metadata": {
        "id": "IzRzgBEBihoM",
        "colab_type": "text"
      },
      "source": [
        "##FEATURE SCALING\n"
      ]
    },
    {
      "cell_type": "code",
      "metadata": {
        "id": "sqrKgtEnFz4h",
        "colab_type": "code",
        "outputId": "e8f29f47-63b8-4ef5-83fe-58a22d11cef8",
        "colab": {
          "base_uri": "https://localhost:8080/",
          "height": 299
        }
      },
      "source": [
        "from sklearn.preprocessing import MinMaxScaler\n",
        "from sklearn.model_selection import train_test_split\n",
        "train_size = int(len(clean_df)*0.95)\n",
        "train_df = clean_df.iloc[:train_size, :]\n",
        "test_df = clean_df.iloc[train_size:, :]\n",
        "\n",
        "\n",
        "sc = MinMaxScaler(feature_range = (0,1))\n",
        "scaled_training_set = sc.fit_transform(train_df.iloc[:, 1:2].values)\n",
        "print(len(scaled_training_set))\n",
        "plt.plot(scaled_training_set)"
      ],
      "execution_count": 0,
      "outputs": [
        {
          "output_type": "stream",
          "text": [
            "3727\n"
          ],
          "name": "stdout"
        },
        {
          "output_type": "execute_result",
          "data": {
            "text/plain": [
              "[<matplotlib.lines.Line2D at 0x7faff43909b0>]"
            ]
          },
          "metadata": {
            "tags": []
          },
          "execution_count": 337
        },
        {
          "output_type": "display_data",
          "data": {
            "image/png": "[encoded data removed]",
            "text/plain": [
              "<Figure size 432x288 with 1 Axes>"
            ]
          },
          "metadata": {
            "tags": []
          }
        }
      ]
    },
    {
      "cell_type": "markdown",
      "metadata": {
        "id": "XfDMPP-aM_z0",
        "colab_type": "text"
      },
      "source": [
        "So over here we create an array of arrays which contain the ith stock price given the [i-60: i] array"
      ]
    },
    {
      "cell_type": "code",
      "metadata": {
        "id": "4jn8tSbmKNUz",
        "colab_type": "code",
        "colab": {}
      },
      "source": [
        "X_train = []\n",
        "Y_train = []\n",
        "for i in range(60, len(scaled_training_set)):\n",
        "  X_train.append(scaled_training_set[i-60:i,0])\n",
        "  Y_train.append(scaled_training_set[i,0])\n",
        "(X_train), (Y_train) = np.array(X_train), np.array(Y_train)"
      ],
      "execution_count": 0,
      "outputs": []
    },
    {
      "cell_type": "markdown",
      "metadata": {
        "id": "F3OYxbZASPKj",
        "colab_type": "text"
      },
      "source": [
        "Reshape thet X_train to 3 dimensions"
      ]
    },
    {
      "cell_type": "code",
      "metadata": {
        "id": "ys_ZqlyMO-VC",
        "colab_type": "code",
        "colab": {}
      },
      "source": [
        "X_train = np.reshape(X_train, (X_train.shape[0], X_train.shape[1], 1))"
      ],
      "execution_count": 0,
      "outputs": []
    },
    {
      "cell_type": "code",
      "metadata": {
        "id": "luPl2uiNSYCC",
        "colab_type": "code",
        "outputId": "b30c7d01-b12c-42c8-c56d-1e1f65878c4d",
        "colab": {
          "base_uri": "https://localhost:8080/",
          "height": 459
        }
      },
      "source": [
        "from keras.models import Sequential\n",
        "from keras.layers import Dense, LSTM, Dropout\n",
        "\n",
        "model = Sequential()\n",
        "model.add(LSTM(units=50, return_sequences=True, input_shape= (X_train.shape[1], 1)))\n",
        "model.add(Dropout(0.2))\n",
        "\n",
        "model.add(LSTM(units=50, return_sequences=True))\n",
        "model.add(Dropout(0.2))\n",
        "\n",
        "model.add(LSTM(units=50, return_sequences=True))\n",
        "model.add(Dropout(0.2))\n",
        "\n",
        "model.add(LSTM(units=50))\n",
        "model.add(Dropout(0.2))\n",
        "\n",
        "model.add(Dense(units=1))\n",
        "\n",
        "model.compile(optimizer='adam', loss='mean_squared_error')\n",
        "model.summary()"
      ],
      "execution_count": 0,
      "outputs": [
        {
          "output_type": "stream",
          "text": [
            "Model: \"sequential_4\"\n",
            "_________________________________________________________________\n",
            "Layer (type)                 Output Shape              Param #   \n",
            "=================================================================\n",
            "lstm_13 (LSTM)               (None, 60, 50)            10400     \n",
            "_________________________________________________________________\n",
            "dropout_13 (Dropout)         (None, 60, 50)            0         \n",
            "_________________________________________________________________\n",
            "lstm_14 (LSTM)               (None, 60, 50)            20200     \n",
            "_________________________________________________________________\n",
            "dropout_14 (Dropout)         (None, 60, 50)            0         \n",
            "_________________________________________________________________\n",
            "lstm_15 (LSTM)               (None, 60, 50)            20200     \n",
            "_________________________________________________________________\n",
            "dropout_15 (Dropout)         (None, 60, 50)            0         \n",
            "_________________________________________________________________\n",
            "lstm_16 (LSTM)               (None, 50)                20200     \n",
            "_________________________________________________________________\n",
            "dropout_16 (Dropout)         (None, 50)                0         \n",
            "_________________________________________________________________\n",
            "dense_4 (Dense)              (None, 1)                 51        \n",
            "=================================================================\n",
            "Total params: 71,051\n",
            "Trainable params: 71,051\n",
            "Non-trainable params: 0\n",
            "_________________________________________________________________\n"
          ],
          "name": "stdout"
        }
      ]
    },
    {
      "cell_type": "code",
      "metadata": {
        "id": "VpGGMCJYUWzj",
        "colab_type": "code",
        "outputId": "b18d6992-4777-40da-91c7-d52a9181ebe5",
        "colab": {
          "base_uri": "https://localhost:8080/",
          "height": 204
        }
      },
      "source": [
        "model.fit(X_train, Y_train, epochs=5, batch_size=32)"
      ],
      "execution_count": 0,
      "outputs": [
        {
          "output_type": "stream",
          "text": [
            "Epoch 1/5\n",
            "3667/3667 [==============================] - 26s 7ms/step - loss: 0.0112\n",
            "Epoch 2/5\n",
            "3667/3667 [==============================] - 22s 6ms/step - loss: 0.0020\n",
            "Epoch 3/5\n",
            "3667/3667 [==============================] - 22s 6ms/step - loss: 0.0018\n",
            "Epoch 4/5\n",
            "3667/3667 [==============================] - 22s 6ms/step - loss: 0.0018\n",
            "Epoch 5/5\n",
            "3667/3667 [==============================] - 22s 6ms/step - loss: 0.0017\n"
          ],
          "name": "stdout"
        },
        {
          "output_type": "execute_result",
          "data": {
            "text/plain": [
              "<keras.callbacks.History at 0x7faff468e668>"
            ]
          },
          "metadata": {
            "tags": []
          },
          "execution_count": 341
        }
      ]
    },
    {
      "cell_type": "markdown",
      "metadata": {
        "id": "bmLa4HI9tpN2",
        "colab_type": "text"
      },
      "source": [
        "#Testing the Data"
      ]
    },
    {
      "cell_type": "code",
      "metadata": {
        "id": "oDtY_EehbWW_",
        "colab_type": "code",
        "colab": {}
      },
      "source": [
        "test_stock_prices = test_df.iloc[:, 1:2].values\n",
        "\n",
        "# Number of points to be predicted + 60\n",
        "predict_numbers = 320 \n",
        "\n",
        "inputs = clean_df['Close'][len(clean_df) - predict_numbers:].values\n",
        "inputs = inputs.reshape(-1,1)\n",
        "inputs = sc.transform(inputs)\n",
        "\n",
        "X_test = []\n",
        "\n",
        "for i in range(60, len(inputs)):\n",
        "  X_test.append(inputs[i-60:i, 0])\n",
        "\n",
        "\n",
        "X_test = np.array(X_test)\n",
        "\n",
        "X_test = np.reshape(X_test, (X_test.shape[0], X_test.shape[1], 1))\n",
        "prediction = model.predict(X_test)\n",
        "predicted_inverse = sc.inverse_transform(prediction)"
      ],
      "execution_count": 0,
      "outputs": []
    },
    {
      "cell_type": "code",
      "metadata": {
        "id": "C67UlhRnaRdB",
        "colab_type": "code",
        "outputId": "39ea6fa1-ede0-477c-f739-412cded5e199",
        "colab": {
          "base_uri": "https://localhost:8080/",
          "height": 34
        }
      },
      "source": [
        "orignal= clean_df['Close'].values\n",
        "orignal = orignal.reshape(-1,1)\n",
        "\n",
        "print(predicted_inverse.shape)\n",
        "y_predicted = list(range(len(orignal)-predict_numbers+60, len(orignal)))"
      ],
      "execution_count": 0,
      "outputs": [
        {
          "output_type": "stream",
          "text": [
            "(260, 1)\n"
          ],
          "name": "stdout"
        }
      ]
    },
    {
      "cell_type": "code",
      "metadata": {
        "id": "L3eGTT_SjrmG",
        "colab_type": "code",
        "outputId": "5bad4f73-8047-42c0-edba-5d899d1f9508",
        "colab": {
          "base_uri": "https://localhost:8080/",
          "height": 622
        }
      },
      "source": [
        "fig = plt.gcf()\n",
        "fig.set_size_inches(18.5, 10.5)\n",
        "plt.plot(y_predicted,predicted_inverse, color = \"black\", label=\"predicted\")\n",
        "plt.plot(orignal, color = \"purple\")\n",
        "\n",
        "plt.plot(orignal[:-predict_numbers+60], color = \"orange\")\n",
        "\n",
        "# plt.ylim(-10,350)\n",
        "# plt.xlim(0,10000)\n",
        "plt.show()"
      ],
      "execution_count": 0,
      "outputs": [
        {
          "output_type": "display_data",
          "data": {
            "image/png": "[encoded data removed]",
            "text/plain": [
              "<Figure size 1332x756 with 1 Axes>"
            ]
          },
          "metadata": {
            "tags": []
          }
        }
      ]
    },
    {
      "cell_type": "code",
      "metadata": {
        "id": "cwnkmbIStmA6",
        "colab_type": "code",
        "colab": {}
      },
      "source": [
        "inputs = orignal\n",
        "prediction_size = 260\n",
        "inputs = sc.transform(inputs)\n",
        "inputs = inputs.reshape(-1,1)\n",
        "predicted_values = []\n",
        "predicted_values_y = list(range(len(orignal), len(orignal)+prediction_size))\n",
        "for i in range(1, prediction_size+1):\n",
        "  prediction_input = inputs[-60:]\n",
        "  prediction_input = np.reshape(prediction_input, (1, prediction_input.shape[0], 1))\n",
        "  prediction_input = np.array(prediction_input)\n",
        "  inputs = inputs.reshape(-1,1)\n",
        "  prediction = model.predict(prediction_input)\n",
        "  inputs = np.append(inputs, prediction)\n",
        "  predicted_values.append(sc.inverse_transform(prediction))\n",
        "  fig = plt.gcf()\n",
        "  fig.set_size_inches(18.5, 10.5)\n",
        "  predicted_values = np.array(list(predicted_values)).reshape(len(predicted_values),1)\n",
        "  # inputs = inputs.reshape(-1,1)\n",
        "  # inputs = sc.inverse_transform(inputs)\n",
        "  plt.plot(predicted_values_y, predicted_values, color = \"black\", linestyle=':')\n",
        "\n",
        "  plt.plot(orignal, color = \"orange\")\n"
      ],
      "execution_count": 0,
      "outputs": []
    }
  ]
}